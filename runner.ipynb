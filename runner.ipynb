{
 "cells": [
  {
   "cell_type": "code",
   "execution_count": null,
   "metadata": {},
   "outputs": [],
   "source": [
    "# Run Train\n",
    "\n",
    "! python trainer.py   --cuda --gpu 0 --data_dir Dataset \\\n",
    "                     --cache_dir src\\data \\\n",
    "                       --model Transformer \\\n",
    "                        --save_root models\\save \\\n",
    "                         --log_root models\\log \\\n",
    "                          --lr_descent \\\n",
    "                           --grad_clip \\\n",
    "                           --batch_size 32 -m 7 \\\n",
    "                           --n_epochs 2\n",
    "\n",
    "  python trainer.py   --cuda --gpu 0 --data_dir Dataset --cache_dir src\\data --model Transformer --save_root models\\save --log_root models\\log --lr_descent --grad_clip --batch_size 32 -m 7 --n_epochs 2"
   ]
  },
  {
   "cell_type": "code",
   "execution_count": null,
   "metadata": {},
   "outputs": [],
   "source": [
    "# Run test\n",
    "\n",
    "! python tester.py   --cuda --gpu 0 --data_dir Dataset \\\n",
    "                     --cache_dir src\\data \\\n",
    "                       --model Transformer \\\n",
    "                        --save_root models\\save \\\n",
    "                         --log_root models\\log \\\n",
    "                          --lr_descent \\\n",
    "                           --grad_clip \\\n",
    "                           --batch_size 32 -m 7 \\\n",
    "                           --n_epochs 2\n",
    "\n",
    "  python tester.py   --cuda --gpu 0 --data_dir Dataset --cache_dir src\\data --model Transformer --save_root models\\save --log_root models\\log --lr_descent --grad_clip --batch_size 32 -m 7 --n_epochs 2"
   ]
  }
 ],
 "metadata": {
  "kernelspec": {
   "display_name": "Python 3",
   "language": "python",
   "name": "python3"
  },
  "language_info": {
   "codemirror_mode": {
    "name": "ipython",
    "version": 3
   },
   "file_extension": ".py",
   "mimetype": "text/x-python",
   "name": "python",
   "nbconvert_exporter": "python",
   "pygments_lexer": "ipython3",
   "version": "3.10.0"
  },
  "orig_nbformat": 4
 },
 "nbformat": 4,
 "nbformat_minor": 2
}
