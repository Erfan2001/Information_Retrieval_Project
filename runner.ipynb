{
 "cells": [
  {
   "cell_type": "code",
   "execution_count": 3,
   "metadata": {},
   "outputs": [
    {
     "name": "stdout",
     "output_type": "stream",
     "text": [
      "2023-06-23 19:07:55,818 INFO    : [INFO] Start changing directories to json from Dataset\\train path \n",
      "2023-06-23 19:07:55,819 INFO    : [INFO] Start saving Beinolmelal document\n",
      "2023-06-23 19:08:00,990 INFO    : [INFO] Finish saving Beinolmelal document with 4958 samples\n",
      "2023-06-23 19:08:00,991 INFO    : [INFO] Start saving Eghtesadi document\n",
      "2023-06-23 19:08:05,597 INFO    : [INFO] Finish saving Eghtesadi document with 3994 samples\n",
      "2023-06-23 19:08:05,597 INFO    : [INFO] Start saving Ejtemaee document\n",
      "2023-06-23 19:08:09,424 INFO    : [INFO] Finish saving Ejtemaee document with 4000 samples\n",
      "2023-06-23 19:08:09,424 INFO    : [INFO] Start saving ElmiVaDaneshghai document\n",
      "2023-06-23 19:08:13,061 INFO    : [INFO] Finish saving ElmiVaDaneshghai document with 3982 samples\n",
      "2023-06-23 19:08:13,061 INFO    : [INFO] Start saving FarhangHonarVaResane document\n",
      "2023-06-23 19:08:18,181 INFO    : [INFO] Finish saving FarhangHonarVaResane document with 4000 samples\n",
      "2023-06-23 19:08:18,181 INFO    : [INFO] Start saving Siasi document\n",
      "2023-06-23 19:08:21,661 INFO    : [INFO] Finish saving Siasi document with 3937 samples\n",
      "2023-06-23 19:08:21,661 INFO    : [INFO] Start saving Varzeshi document\n",
      "2023-06-23 19:08:27,024 INFO    : [INFO] Finish saving Varzeshi document with 5000 samples\n",
      "2023-06-23 19:08:27,024 INFO    : [INFO] Finish changing directories to json from Dataset\\train path \n"
     ]
    },
    {
     "name": "stderr",
     "output_type": "stream",
     "text": [
      "ERROR: Could not consume arg: --cuda\n",
      "Usage: trainer.py\n",
      "\n",
      "For detailed information on this command, run:\n",
      "  trainer.py --help\n"
     ]
    }
   ],
   "source": [
    "# Run Easily\n",
    "\n",
    "! python trainer.py   --cuda --gpu 0 --data_dir Dataset \\\n",
    "                     --cache_dir src\\data \\\n",
    "                       --model Transformer \\\n",
    "                        --save_root models\\save \\\n",
    "                         --log_root models\\log \\\n",
    "                          --lr_descent \\\n",
    "                           --grad_clip \\\n",
    "                           --batch_size 32 -m 3 \\\n",
    "                           --n_epochs 2"
   ]
  }
 ],
 "metadata": {
  "kernelspec": {
   "display_name": "Python 3",
   "language": "python",
   "name": "python3"
  },
  "language_info": {
   "codemirror_mode": {
    "name": "ipython",
    "version": 3
   },
   "file_extension": ".py",
   "mimetype": "text/x-python",
   "name": "python",
   "nbconvert_exporter": "python",
   "pygments_lexer": "ipython3",
   "version": "3.10.0"
  },
  "orig_nbformat": 4
 },
 "nbformat": 4,
 "nbformat_minor": 2
}
