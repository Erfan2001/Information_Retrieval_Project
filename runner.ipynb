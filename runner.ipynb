{
 "cells": [
  {
   "cell_type": "code",
   "execution_count": 4,
   "metadata": {},
   "outputs": [
    {
     "name": "stdout",
     "output_type": "stream",
     "text": [
      "Erfan init <src.classifier.classifier.MyClassifier object at 0x0000029497286440>\n",
      "Erfan Model <src.classifier.classifier.MyClassifier object at 0x0000029497286440>\n"
     ]
    },
    {
     "name": "stderr",
     "output_type": "stream",
     "text": [
      "Traceback (most recent call last):\n",
      "  File \"f:\\University\\Term8\\Information Retrieval\\Project\\trainer.py\", line 34, in <module>\n",
      "    Fire(trainer)\n",
      "  File \"c:\\Users\\ASUS\\AppData\\Local\\Programs\\Python\\Python310\\lib\\site-packages\\fire\\core.py\", line 141, in Fire\n",
      "    component_trace = _Fire(component, args, parsed_flag_args, context, name)\n",
      "  File \"c:\\Users\\ASUS\\AppData\\Local\\Programs\\Python\\Python310\\lib\\site-packages\\fire\\core.py\", line 475, in _Fire\n",
      "    component, remaining_args = _CallAndUpdateTrace(\n",
      "  File \"c:\\Users\\ASUS\\AppData\\Local\\Programs\\Python\\Python310\\lib\\site-packages\\fire\\core.py\", line 691, in _CallAndUpdateTrace\n",
      "    component = fn(*varargs, **kwargs)\n",
      "  File \"f:\\University\\Term8\\Information Retrieval\\Project\\trainer.py\", line 29, in trainer\n",
      "    model.train(dataset)\n",
      "TypeError: MyClassifier.train() takes 1 positional argument but 2 were given\n"
     ]
    }
   ],
   "source": [
    "# Run Easily\n",
    "\n",
    "! python trainer.py   --cuda --gpu 0 --data_dir Dataset \\\n",
    "                     --cache_dir src\\data \\\n",
    "                       --model Transformer \\\n",
    "                        --save_root models\\save \\\n",
    "                         --log_root models\\log \\\n",
    "                          --lr_descent \\\n",
    "                           --grad_clip \\\n",
    "                           --batch_size 32 -m 3 \\\n",
    "                           --n_epochs 2\n",
    "\n",
    "python trainer.py   --cuda --gpu 0 --data_dir Dataset --cache_dir src\\data --model Transformer --save_root models\\save --log_root models\\log --lr_descent --grad_clip --batch_size 32 -m 3 --n_epochs 2"
   ]
  },
  {
   "cell_type": "code",
   "execution_count": 5,
   "metadata": {},
   "outputs": [
    {
     "name": "stderr",
     "output_type": "stream",
     "text": [
      "Downloading builder script: 4.31kB [00:00, 4.43MB/s]\n",
      "Downloading metadata: 2.17kB [00:00, ?B/s]\n",
      "Downloading readme: 7.59kB [00:00, 7.54MB/s]\n"
     ]
    },
    {
     "name": "stdout",
     "output_type": "stream",
     "text": [
      "Downloading and preparing dataset imdb/plain_text to C:/Users/ASUS/.cache/huggingface/datasets/imdb/plain_text/1.0.0/d613c88cf8fa3bab83b4ded3713f1f74830d1100e171db75bbddb80b3345c9c0...\n"
     ]
    },
    {
     "name": "stderr",
     "output_type": "stream",
     "text": [
      "HF google storage unreachable. Downloading and preparing it from source\n",
      "Downloading data: 100%|██████████| 84.1M/84.1M [09:49<00:00, 143kB/s]    \n",
      "                                                                                              \r"
     ]
    },
    {
     "name": "stdout",
     "output_type": "stream",
     "text": [
      "Dataset imdb downloaded and prepared to C:/Users/ASUS/.cache/huggingface/datasets/imdb/plain_text/1.0.0/d613c88cf8fa3bab83b4ded3713f1f74830d1100e171db75bbddb80b3345c9c0. Subsequent calls will reuse this data.\n"
     ]
    },
    {
     "name": "stderr",
     "output_type": "stream",
     "text": [
      "100%|██████████| 3/3 [00:00<00:00, 43.50it/s]\n"
     ]
    }
   ],
   "source": [
    "    from datasets import load_dataset\n",
    "imdb = load_dataset(\"imdb\")"
   ]
  },
  {
   "cell_type": "code",
   "execution_count": 14,
   "metadata": {},
   "outputs": [
    {
     "name": "stderr",
     "output_type": "stream",
     "text": [
      "Resolving data files: 100%|██████████| 21581/21581 [00:00<00:00, 62553.53it/s] \n",
      "Resolving data files: 100%|██████████| 3809/3809 [00:00<00:00, 8598.26it/s] \n",
      "Resolving data files: 100%|██████████| 4481/4481 [00:00<00:00, 7833.93it/s] \n"
     ]
    },
    {
     "name": "stdout",
     "output_type": "stream",
     "text": [
      "Downloading and preparing dataset json/data to C:/Users/ASUS/.cache/huggingface/datasets/json/data-1656148f9278528c/0.0.0/8bb11242116d547c741b2e8a1f18598ffdd40a1d4f2a2872c7a28b697434bc96...\n"
     ]
    },
    {
     "name": "stderr",
     "output_type": "stream",
     "text": [
      "HF google storage unreachable. Downloading and preparing it from source\n",
      "Downloading data files: 100%|██████████| 3/3 [00:01<00:00,  1.64it/s]\n",
      "Extracting data files: 100%|██████████| 3/3 [03:59<00:00, 79.93s/it] \n",
      "                                                                     \r"
     ]
    },
    {
     "name": "stdout",
     "output_type": "stream",
     "text": [
      "Dataset json downloaded and prepared to C:/Users/ASUS/.cache/huggingface/datasets/json/data-1656148f9278528c/0.0.0/8bb11242116d547c741b2e8a1f18598ffdd40a1d4f2a2872c7a28b697434bc96. Subsequent calls will reuse this data.\n"
     ]
    },
    {
     "name": "stderr",
     "output_type": "stream",
     "text": [
      "100%|██████████| 3/3 [00:00<00:00,  5.75it/s]"
     ]
    },
    {
     "name": "stdout",
     "output_type": "stream",
     "text": [
      "DatasetDict({\n",
      "    train: Dataset({\n",
      "        features: ['text', 'label'],\n",
      "        num_rows: 21581\n",
      "    })\n",
      "    validation: Dataset({\n",
      "        features: ['text', 'label'],\n",
      "        num_rows: 3809\n",
      "    })\n",
      "    test: Dataset({\n",
      "        features: ['text', 'label'],\n",
      "        num_rows: 4481\n",
      "    })\n",
      "})\n"
     ]
    },
    {
     "name": "stderr",
     "output_type": "stream",
     "text": [
      "\n"
     ]
    }
   ],
   "source": [
    "x= load_dataset(r'F:\\University\\Term8\\Information Retrieval\\Project\\src\\data')\n",
    "print(x)"
   ]
  },
  {
   "cell_type": "code",
   "execution_count": 15,
   "metadata": {},
   "outputs": [
    {
     "name": "stdout",
     "output_type": "stream",
     "text": [
      "DatasetDict({\n",
      "    train: Dataset({\n",
      "        features: ['text', 'label'],\n",
      "        num_rows: 21581\n",
      "    })\n",
      "    validation: Dataset({\n",
      "        features: ['text', 'label'],\n",
      "        num_rows: 3809\n",
      "    })\n",
      "    test: Dataset({\n",
      "        features: ['text', 'label'],\n",
      "        num_rows: 4481\n",
      "    })\n",
      "})\n"
     ]
    }
   ],
   "source": [
    "print(x)"
   ]
  }
 ],
 "metadata": {
  "kernelspec": {
   "display_name": "Python 3",
   "language": "python",
   "name": "python3"
  },
  "language_info": {
   "codemirror_mode": {
    "name": "ipython",
    "version": 3
   },
   "file_extension": ".py",
   "mimetype": "text/x-python",
   "name": "python",
   "nbconvert_exporter": "python",
   "pygments_lexer": "ipython3",
   "version": "3.10.0"
  },
  "orig_nbformat": 4
 },
 "nbformat": 4,
 "nbformat_minor": 2
}
